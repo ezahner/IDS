{
  "nbformat": 4,
  "nbformat_minor": 0,
  "metadata": {
    "colab": {
      "provenance": [],
      "authorship_tag": "ABX9TyO+CC6pC6Kb49nObDgGG5x5",
      "include_colab_link": true
    },
    "kernelspec": {
      "name": "python3",
      "display_name": "Python 3"
    },
    "language_info": {
      "name": "python"
    }
  },
  "cells": [
    {
      "cell_type": "markdown",
      "metadata": {
        "id": "view-in-github",
        "colab_type": "text"
      },
      "source": [
        "<a href=\"https://colab.research.google.com/github/ezahner/IDS/blob/main/Project4/Project4_Part2_Python.ipynb\" target=\"_parent\"><img src=\"https://colab.research.google.com/assets/colab-badge.svg\" alt=\"Open In Colab\"/></a>"
      ]
    },
    {
      "cell_type": "markdown",
      "source": [
        "Erin Zahner\n",
        "--"
      ],
      "metadata": {
        "id": "rJNOJAoi45Gp"
      }
    },
    {
      "cell_type": "markdown",
      "source": [
        "\n",
        "\n",
        "\n",
        "\n",
        "\n",
        "**Project 4 - Part 2 - Python**\n",
        "---"
      ],
      "metadata": {
        "id": "lp4TVWtY47pP"
      }
    },
    {
      "cell_type": "code",
      "execution_count": 14,
      "metadata": {
        "id": "mjELyXHj4x4c"
      },
      "outputs": [],
      "source": [
        "import pandas as pd\n",
        "\n",
        "data = pd.read_csv(\"https://raw.githubusercontent.com/bforoura/IDS/main/HW4/nutrition_subset.csv\")\n"
      ]
    },
    {
      "cell_type": "code",
      "source": [
        "data.describe()"
      ],
      "metadata": {
        "colab": {
          "base_uri": "https://localhost:8080/",
          "height": 300
        },
        "id": "KrAHLM-75JOX",
        "outputId": "0a04885c-1f9f-4214-c0fe-14c7f985b8c3"
      },
      "execution_count": 15,
      "outputs": [
        {
          "output_type": "execute_result",
          "data": {
            "text/plain": [
              "       weight_in_grams  saturated_fat  cholesterol\n",
              "count       961.000000     961.000000    961.00000\n",
              "mean        149.409365       3.987617     32.55359\n",
              "std         175.909357      10.744359    119.96059\n",
              "min           0.400000       0.000000      0.00000\n",
              "25%          32.000000       0.000000      0.00000\n",
              "50%         113.000000       0.400000      0.00000\n",
              "75%         218.000000       3.300000     20.00000\n",
              "max        1542.000000     119.900000   2053.00000"
            ],
            "text/html": [
              "\n",
              "  <div id=\"df-ece26fc1-645a-4807-957a-fd8be3ae7c65\" class=\"colab-df-container\">\n",
              "    <div>\n",
              "<style scoped>\n",
              "    .dataframe tbody tr th:only-of-type {\n",
              "        vertical-align: middle;\n",
              "    }\n",
              "\n",
              "    .dataframe tbody tr th {\n",
              "        vertical-align: top;\n",
              "    }\n",
              "\n",
              "    .dataframe thead th {\n",
              "        text-align: right;\n",
              "    }\n",
              "</style>\n",
              "<table border=\"1\" class=\"dataframe\">\n",
              "  <thead>\n",
              "    <tr style=\"text-align: right;\">\n",
              "      <th></th>\n",
              "      <th>weight_in_grams</th>\n",
              "      <th>saturated_fat</th>\n",
              "      <th>cholesterol</th>\n",
              "    </tr>\n",
              "  </thead>\n",
              "  <tbody>\n",
              "    <tr>\n",
              "      <th>count</th>\n",
              "      <td>961.000000</td>\n",
              "      <td>961.000000</td>\n",
              "      <td>961.00000</td>\n",
              "    </tr>\n",
              "    <tr>\n",
              "      <th>mean</th>\n",
              "      <td>149.409365</td>\n",
              "      <td>3.987617</td>\n",
              "      <td>32.55359</td>\n",
              "    </tr>\n",
              "    <tr>\n",
              "      <th>std</th>\n",
              "      <td>175.909357</td>\n",
              "      <td>10.744359</td>\n",
              "      <td>119.96059</td>\n",
              "    </tr>\n",
              "    <tr>\n",
              "      <th>min</th>\n",
              "      <td>0.400000</td>\n",
              "      <td>0.000000</td>\n",
              "      <td>0.00000</td>\n",
              "    </tr>\n",
              "    <tr>\n",
              "      <th>25%</th>\n",
              "      <td>32.000000</td>\n",
              "      <td>0.000000</td>\n",
              "      <td>0.00000</td>\n",
              "    </tr>\n",
              "    <tr>\n",
              "      <th>50%</th>\n",
              "      <td>113.000000</td>\n",
              "      <td>0.400000</td>\n",
              "      <td>0.00000</td>\n",
              "    </tr>\n",
              "    <tr>\n",
              "      <th>75%</th>\n",
              "      <td>218.000000</td>\n",
              "      <td>3.300000</td>\n",
              "      <td>20.00000</td>\n",
              "    </tr>\n",
              "    <tr>\n",
              "      <th>max</th>\n",
              "      <td>1542.000000</td>\n",
              "      <td>119.900000</td>\n",
              "      <td>2053.00000</td>\n",
              "    </tr>\n",
              "  </tbody>\n",
              "</table>\n",
              "</div>\n",
              "    <div class=\"colab-df-buttons\">\n",
              "\n",
              "  <div class=\"colab-df-container\">\n",
              "    <button class=\"colab-df-convert\" onclick=\"convertToInteractive('df-ece26fc1-645a-4807-957a-fd8be3ae7c65')\"\n",
              "            title=\"Convert this dataframe to an interactive table.\"\n",
              "            style=\"display:none;\">\n",
              "\n",
              "  <svg xmlns=\"http://www.w3.org/2000/svg\" height=\"24px\" viewBox=\"0 -960 960 960\">\n",
              "    <path d=\"M120-120v-720h720v720H120Zm60-500h600v-160H180v160Zm220 220h160v-160H400v160Zm0 220h160v-160H400v160ZM180-400h160v-160H180v160Zm440 0h160v-160H620v160ZM180-180h160v-160H180v160Zm440 0h160v-160H620v160Z\"/>\n",
              "  </svg>\n",
              "    </button>\n",
              "\n",
              "  <style>\n",
              "    .colab-df-container {\n",
              "      display:flex;\n",
              "      gap: 12px;\n",
              "    }\n",
              "\n",
              "    .colab-df-convert {\n",
              "      background-color: #E8F0FE;\n",
              "      border: none;\n",
              "      border-radius: 50%;\n",
              "      cursor: pointer;\n",
              "      display: none;\n",
              "      fill: #1967D2;\n",
              "      height: 32px;\n",
              "      padding: 0 0 0 0;\n",
              "      width: 32px;\n",
              "    }\n",
              "\n",
              "    .colab-df-convert:hover {\n",
              "      background-color: #E2EBFA;\n",
              "      box-shadow: 0px 1px 2px rgba(60, 64, 67, 0.3), 0px 1px 3px 1px rgba(60, 64, 67, 0.15);\n",
              "      fill: #174EA6;\n",
              "    }\n",
              "\n",
              "    .colab-df-buttons div {\n",
              "      margin-bottom: 4px;\n",
              "    }\n",
              "\n",
              "    [theme=dark] .colab-df-convert {\n",
              "      background-color: #3B4455;\n",
              "      fill: #D2E3FC;\n",
              "    }\n",
              "\n",
              "    [theme=dark] .colab-df-convert:hover {\n",
              "      background-color: #434B5C;\n",
              "      box-shadow: 0px 1px 3px 1px rgba(0, 0, 0, 0.15);\n",
              "      filter: drop-shadow(0px 1px 2px rgba(0, 0, 0, 0.3));\n",
              "      fill: #FFFFFF;\n",
              "    }\n",
              "  </style>\n",
              "\n",
              "    <script>\n",
              "      const buttonEl =\n",
              "        document.querySelector('#df-ece26fc1-645a-4807-957a-fd8be3ae7c65 button.colab-df-convert');\n",
              "      buttonEl.style.display =\n",
              "        google.colab.kernel.accessAllowed ? 'block' : 'none';\n",
              "\n",
              "      async function convertToInteractive(key) {\n",
              "        const element = document.querySelector('#df-ece26fc1-645a-4807-957a-fd8be3ae7c65');\n",
              "        const dataTable =\n",
              "          await google.colab.kernel.invokeFunction('convertToInteractive',\n",
              "                                                    [key], {});\n",
              "        if (!dataTable) return;\n",
              "\n",
              "        const docLinkHtml = 'Like what you see? Visit the ' +\n",
              "          '<a target=\"_blank\" href=https://colab.research.google.com/notebooks/data_table.ipynb>data table notebook</a>'\n",
              "          + ' to learn more about interactive tables.';\n",
              "        element.innerHTML = '';\n",
              "        dataTable['output_type'] = 'display_data';\n",
              "        await google.colab.output.renderOutput(dataTable, element);\n",
              "        const docLink = document.createElement('div');\n",
              "        docLink.innerHTML = docLinkHtml;\n",
              "        element.appendChild(docLink);\n",
              "      }\n",
              "    </script>\n",
              "  </div>\n",
              "\n",
              "\n",
              "<div id=\"df-73082643-1f7e-42ab-ab97-c219316cc5bd\">\n",
              "  <button class=\"colab-df-quickchart\" onclick=\"quickchart('df-73082643-1f7e-42ab-ab97-c219316cc5bd')\"\n",
              "            title=\"Suggest charts.\"\n",
              "            style=\"display:none;\">\n",
              "\n",
              "<svg xmlns=\"http://www.w3.org/2000/svg\" height=\"24px\"viewBox=\"0 0 24 24\"\n",
              "     width=\"24px\">\n",
              "    <g>\n",
              "        <path d=\"M19 3H5c-1.1 0-2 .9-2 2v14c0 1.1.9 2 2 2h14c1.1 0 2-.9 2-2V5c0-1.1-.9-2-2-2zM9 17H7v-7h2v7zm4 0h-2V7h2v10zm4 0h-2v-4h2v4z\"/>\n",
              "    </g>\n",
              "</svg>\n",
              "  </button>\n",
              "\n",
              "<style>\n",
              "  .colab-df-quickchart {\n",
              "      --bg-color: #E8F0FE;\n",
              "      --fill-color: #1967D2;\n",
              "      --hover-bg-color: #E2EBFA;\n",
              "      --hover-fill-color: #174EA6;\n",
              "      --disabled-fill-color: #AAA;\n",
              "      --disabled-bg-color: #DDD;\n",
              "  }\n",
              "\n",
              "  [theme=dark] .colab-df-quickchart {\n",
              "      --bg-color: #3B4455;\n",
              "      --fill-color: #D2E3FC;\n",
              "      --hover-bg-color: #434B5C;\n",
              "      --hover-fill-color: #FFFFFF;\n",
              "      --disabled-bg-color: #3B4455;\n",
              "      --disabled-fill-color: #666;\n",
              "  }\n",
              "\n",
              "  .colab-df-quickchart {\n",
              "    background-color: var(--bg-color);\n",
              "    border: none;\n",
              "    border-radius: 50%;\n",
              "    cursor: pointer;\n",
              "    display: none;\n",
              "    fill: var(--fill-color);\n",
              "    height: 32px;\n",
              "    padding: 0;\n",
              "    width: 32px;\n",
              "  }\n",
              "\n",
              "  .colab-df-quickchart:hover {\n",
              "    background-color: var(--hover-bg-color);\n",
              "    box-shadow: 0 1px 2px rgba(60, 64, 67, 0.3), 0 1px 3px 1px rgba(60, 64, 67, 0.15);\n",
              "    fill: var(--button-hover-fill-color);\n",
              "  }\n",
              "\n",
              "  .colab-df-quickchart-complete:disabled,\n",
              "  .colab-df-quickchart-complete:disabled:hover {\n",
              "    background-color: var(--disabled-bg-color);\n",
              "    fill: var(--disabled-fill-color);\n",
              "    box-shadow: none;\n",
              "  }\n",
              "\n",
              "  .colab-df-spinner {\n",
              "    border: 2px solid var(--fill-color);\n",
              "    border-color: transparent;\n",
              "    border-bottom-color: var(--fill-color);\n",
              "    animation:\n",
              "      spin 1s steps(1) infinite;\n",
              "  }\n",
              "\n",
              "  @keyframes spin {\n",
              "    0% {\n",
              "      border-color: transparent;\n",
              "      border-bottom-color: var(--fill-color);\n",
              "      border-left-color: var(--fill-color);\n",
              "    }\n",
              "    20% {\n",
              "      border-color: transparent;\n",
              "      border-left-color: var(--fill-color);\n",
              "      border-top-color: var(--fill-color);\n",
              "    }\n",
              "    30% {\n",
              "      border-color: transparent;\n",
              "      border-left-color: var(--fill-color);\n",
              "      border-top-color: var(--fill-color);\n",
              "      border-right-color: var(--fill-color);\n",
              "    }\n",
              "    40% {\n",
              "      border-color: transparent;\n",
              "      border-right-color: var(--fill-color);\n",
              "      border-top-color: var(--fill-color);\n",
              "    }\n",
              "    60% {\n",
              "      border-color: transparent;\n",
              "      border-right-color: var(--fill-color);\n",
              "    }\n",
              "    80% {\n",
              "      border-color: transparent;\n",
              "      border-right-color: var(--fill-color);\n",
              "      border-bottom-color: var(--fill-color);\n",
              "    }\n",
              "    90% {\n",
              "      border-color: transparent;\n",
              "      border-bottom-color: var(--fill-color);\n",
              "    }\n",
              "  }\n",
              "</style>\n",
              "\n",
              "  <script>\n",
              "    async function quickchart(key) {\n",
              "      const quickchartButtonEl =\n",
              "        document.querySelector('#' + key + ' button');\n",
              "      quickchartButtonEl.disabled = true;  // To prevent multiple clicks.\n",
              "      quickchartButtonEl.classList.add('colab-df-spinner');\n",
              "      try {\n",
              "        const charts = await google.colab.kernel.invokeFunction(\n",
              "            'suggestCharts', [key], {});\n",
              "      } catch (error) {\n",
              "        console.error('Error during call to suggestCharts:', error);\n",
              "      }\n",
              "      quickchartButtonEl.classList.remove('colab-df-spinner');\n",
              "      quickchartButtonEl.classList.add('colab-df-quickchart-complete');\n",
              "    }\n",
              "    (() => {\n",
              "      let quickchartButtonEl =\n",
              "        document.querySelector('#df-73082643-1f7e-42ab-ab97-c219316cc5bd button');\n",
              "      quickchartButtonEl.style.display =\n",
              "        google.colab.kernel.accessAllowed ? 'block' : 'none';\n",
              "    })();\n",
              "  </script>\n",
              "</div>\n",
              "    </div>\n",
              "  </div>\n"
            ]
          },
          "metadata": {},
          "execution_count": 15
        }
      ]
    },
    {
      "cell_type": "markdown",
      "source": [
        "\n",
        "\n",
        "---\n",
        "\n",
        "\n",
        "The first order of business is cleaning up the data of any noise. Looking at the summary of the table, we can see that there are some 0s in all three of the columns. Normally, I would impute these values with the mean, however, in this case these 0s are likely to be accurate. Since we are measuring saturated fat and cholesterol in food, it is likely that some foods (especially if they are in small quantities) should contain 0 values. To avoid skewing the results by imputing the mean, I am choosing to ignore the 0 values.\n",
        "\n",
        "\n",
        "---\n",
        "\n"
      ],
      "metadata": {
        "id": "S7k5VrvU7Giq"
      }
    },
    {
      "cell_type": "code",
      "source": [
        "#sort dataset by saturated fat in descending order\n",
        "sorted_by_satfat = data.sort_values(by='saturated_fat', ascending=False)\n",
        "\n",
        "#print the first 5 of the table (5 food items with highest levels of sat fat)\n",
        "print(sorted_by_satfat.head(5))"
      ],
      "metadata": {
        "colab": {
          "base_uri": "https://localhost:8080/"
        },
        "id": "uMCph9h4BhWO",
        "outputId": "788363f4-743f-4417-f38f-d6f101782b49"
      },
      "execution_count": 16,
      "outputs": [
        {
          "output_type": "stream",
          "name": "stdout",
          "text": [
            "                                  food item  weight_in_grams  saturated_fat  \\\n",
            "378  CHEESECAKE                    1 CAKE             1110.0          119.9   \n",
            "535  ICE CREAM; VANLLA; RICH 16% FT1/2 GAL            1188.0          118.3   \n",
            "458  YELLOWCAKE W/ CHOCFRSTNG;COMML1 CAKE             1108.0           92.0   \n",
            "581  CREME PIE                     1 PIE               910.0           90.1   \n",
            "890  LARD                          1 CUP               205.0           80.4   \n",
            "\n",
            "     cholesterol  \n",
            "378         2053  \n",
            "535          703  \n",
            "458          609  \n",
            "581           46  \n",
            "890          195  \n"
          ]
        }
      ]
    },
    {
      "cell_type": "markdown",
      "source": [
        "\n",
        "---\n",
        "\n",
        "Here we can see the results of the 5 foods with the highest saturated fat. The issue with this, however, is that there sizes of the foods vary greatly. For example, this is comparing one whole cheese cake with one cup of lard. This is not a very accurate way to determine which foods actually have the highest saturated fat overall. Instead, we should look at the saturated fat per gram and compare based on that.\n",
        "\n",
        "\n",
        "---\n",
        "\n"
      ],
      "metadata": {
        "id": "5J2YHIa9CP4n"
      }
    },
    {
      "cell_type": "code",
      "source": [
        "#create a new column for saturated fat per gram\n",
        "data['saturated_fat_per_gram'] = data['saturated_fat'] / data['weight_in_grams']\n",
        "\n",
        "#sort saturated fat per gram in descending order\n",
        "sorted_by_fat_per_gram = data.sort_values(by='saturated_fat_per_gram', ascending=False)\n",
        "\n",
        "\n",
        "#print the first 5 rows\n",
        "print(sorted_by_fat_per_gram.head(5))"
      ],
      "metadata": {
        "colab": {
          "base_uri": "https://localhost:8080/"
        },
        "id": "6Y4sFedPC4OT",
        "outputId": "1cc02228-049f-4e98-8131-7a2dd4b018e6"
      },
      "execution_count": 17,
      "outputs": [
        {
          "output_type": "stream",
          "name": "stdout",
          "text": [
            "                                  food item  weight_in_grams  saturated_fat  \\\n",
            "908  BUTTER; SALTED                1 TBSP               14.0            7.1   \n",
            "909  BUTTER; UNSALTED              1 TBSP               14.0            7.1   \n",
            "710  BUTTER; UNSALTED              1/2 CUP             113.0           57.1   \n",
            "709  BUTTER; SALTED                1/2 CUP             113.0           57.1   \n",
            "913  BUTTER; UNSALTED              1 PAT                 5.0            2.5   \n",
            "\n",
            "     cholesterol  saturated_fat_per_gram  \n",
            "908           31                0.507143  \n",
            "909           31                0.507143  \n",
            "710          247                0.505310  \n",
            "709          247                0.505310  \n",
            "913           11                0.500000  \n"
          ]
        }
      ]
    },
    {
      "cell_type": "markdown",
      "source": [
        "---\n",
        "After calculating the saturated fat per gram, we can see that the foods with the highest saturated fat have changed. Now, the foods with the highest saturated fat per gram are salted and unsalted butter.\n",
        "\n",
        "\n",
        "\n",
        "---\n",
        "\n",
        "\n"
      ],
      "metadata": {
        "id": "MLgGm7S53Rmw"
      }
    },
    {
      "cell_type": "code",
      "source": [
        "from scipy import stats\n",
        "\n",
        "#find outliers for saturated fat per gram\n",
        "\n",
        "#scale sat fat per gram\n",
        "data['scaled_sat_fat_per_gram'] = stats.zscore(data.saturated_fat_per_gram, nan_policy='omit')\n",
        "\n",
        "#finds the outliers\n",
        "sat_fat_outliers = data[(data['scaled_sat_fat_per_gram'] > 3) | (data['scaled_sat_fat_per_gram'] < -3)]\n",
        "\n",
        "#sorts the values in descending order\n",
        "sat_fat_outliers = sat_fat_outliers.sort_values(by='scaled_sat_fat_per_gram', ascending=False)\n",
        "\n",
        "num_outliers = len(sat_fat_outliers)\n",
        "\n",
        "#print out results\n",
        "print(\"There are \", num_outliers, \" outliers\")\n",
        "print(sat_fat_outliers)\n"
      ],
      "metadata": {
        "id": "SjLiRXo64QFU",
        "colab": {
          "base_uri": "https://localhost:8080/"
        },
        "outputId": "897f2a0c-4352-4989-9cb5-b3496e2a34df"
      },
      "execution_count": 18,
      "outputs": [
        {
          "output_type": "stream",
          "name": "stdout",
          "text": [
            "There are  15  outliers\n",
            "                                  food item  weight_in_grams  saturated_fat  \\\n",
            "908  BUTTER; SALTED                1 TBSP              14.00            7.1   \n",
            "909  BUTTER; UNSALTED              1 TBSP              14.00            7.1   \n",
            "709  BUTTER; SALTED                1/2 CUP            113.00           57.1   \n",
            "710  BUTTER; UNSALTED              1/2 CUP            113.00           57.1   \n",
            "912  BUTTER; SALTED                1 PAT                5.00            2.5   \n",
            "913  BUTTER; UNSALTED              1 PAT                5.00            2.5   \n",
            "899  LARD                          1 TBSP              13.00            5.1   \n",
            "890  LARD                          1 CUP              205.00           80.4   \n",
            "920  IMITATION CREAMERS; POWDERED  1 TSP                2.00            0.7   \n",
            "210  CHOCOLATE; BITTER OT BAKING   1 OZ                28.35            9.0   \n",
            "492  COCONUT; DRIED; SWEETND;SHREDD1 CUP               93.00           29.3   \n",
            "576  COCONUT; RAW; PIECE           1 PIECE             45.00           13.4   \n",
            "448  COCONUT; RAW; SHREDDED        1 CUP               80.00           23.8   \n",
            "898  FATS; COOKING/VEGETBL SHORTENG1 TBSP              13.00            3.3   \n",
            "907  FATS; COOKING/VEGETBL SHORTENG1 CUP              205.00           51.3   \n",
            "\n",
            "     cholesterol  saturated_fat_per_gram  scaled_sat_fat_per_gram  \n",
            "908           31                0.507143                 7.110475  \n",
            "909           31                0.507143                 7.110475  \n",
            "709          247                0.505310                 7.082741  \n",
            "710          247                0.505310                 7.082741  \n",
            "912           11                0.500000                 7.002408  \n",
            "913           11                0.500000                 7.002408  \n",
            "899           12                0.392308                 5.373078  \n",
            "890          195                0.392195                 5.371375  \n",
            "920            0                0.350000                 4.732985  \n",
            "210            0                0.317460                 4.240676  \n",
            "492            0                0.315054                 4.204266  \n",
            "576            0                0.297778                 3.942889  \n",
            "448            0                0.297500                 3.938687  \n",
            "898            0                0.253846                 3.278227  \n",
            "907            0                0.250244                 3.223726  \n"
          ]
        }
      ]
    },
    {
      "cell_type": "code",
      "source": [
        "import matplotlib.pyplot as plt\n",
        "\n",
        "\n",
        "data.saturated_fat_per_gram.plot.density(color=\"red\")\n",
        "plt.title('Density plot for Unscaled Saturated Fat Per Gram')\n",
        "plt.show()\n",
        "\n",
        "\n",
        "data.scaled_sat_fat_per_gram.plot.density(color=\"blue\")\n",
        "plt.title('Density plot for Scaled Saturated Fat Per Gram')\n",
        "plt.show()"
      ],
      "metadata": {
        "colab": {
          "base_uri": "https://localhost:8080/",
          "height": 887
        },
        "id": "KSuLVWXiHWxW",
        "outputId": "a29711b0-50d9-4200-a412-f88200a86886"
      },
      "execution_count": 19,
      "outputs": [
        {
          "output_type": "display_data",
          "data": {
            "text/plain": [
              "<Figure size 640x480 with 1 Axes>"
            ],
            "image/png": "[encoded data removed]"
          },
          "metadata": {}
        },
        {
          "output_type": "display_data",
          "data": {
            "text/plain": [
              "<Figure size 640x480 with 1 Axes>"
            ],
            "image/png": "[encoded data removed]"
          },
          "metadata": {}
        }
      ]
    },
    {
      "cell_type": "code",
      "source": [
        "#find outliers for other numeric values - weight\n",
        "\n",
        "#scale sat fat per gram\n",
        "data['scaled_weight'] = stats.zscore(data.weight_in_grams, nan_policy='omit')\n",
        "\n",
        "#finds the outliers\n",
        "weight_outliers = data[(data['scaled_weight'] > 3) | (data['scaled_weight'] < -3)]\n",
        "\n",
        "#sorts the values in descending order\n",
        "weight_outliers = weight_outliers.sort_values(by='scaled_weight', ascending=False)\n",
        "\n",
        "num_outliers = len(weight_outliers)\n",
        "\n",
        "#print out results\n",
        "print(\"There are \", num_outliers, \" outliers\")\n",
        "print(weight_outliers)\n"
      ],
      "metadata": {
        "colab": {
          "base_uri": "https://localhost:8080/"
        },
        "id": "g1BSeSlxV5qo",
        "outputId": "346f90ad-0041-4aa8-d00e-0ca3c1e2a16d"
      },
      "execution_count": 20,
      "outputs": [
        {
          "output_type": "stream",
          "name": "stdout",
          "text": [
            "There are  22  outliers\n",
            "                                  food item  weight_in_grams  saturated_fat  \\\n",
            "696  SHERBET; 2% FAT               1/2 GAL            1542.0           19.0   \n",
            "422  CARROT CAKE;CREMCHESE FRST;REC1 CAKE             1536.0           66.0   \n",
            "376  FRUITCAKE;DARK; FROM HOMERECIP1 CAKE             1361.0           47.6   \n",
            "535  ICE CREAM; VANLLA; RICH 16% FT1/2 GAL            1188.0          118.3   \n",
            "445  WHITE CAKE W/ WHT FRSTNG;COMML1 CAKE             1140.0           33.1   \n",
            "378  CHEESECAKE                    1 CAKE             1110.0          119.9   \n",
            "458  YELLOWCAKE W/ CHOCFRSTNG;COMML1 CAKE             1108.0           92.0   \n",
            "423  YELLOW CAKE W/ CHOC FRST;FRMIX1 CAKE             1108.0           47.8   \n",
            "410  DEVIL'S FOOD CAKE;CHOCFRST;FMX1 CAKE             1107.0           55.6   \n",
            "479  SHEETCAKE;W/ WHFRSTNG;HOMERCIP1 CAKE             1096.0           41.6   \n",
            "466  ICE CREAM; VANLLA; REGULR 11% 1/2 GALN           1064.0           71.3   \n",
            "433  ICE MILK; VANILLA; 4% FAT     1/2 GAL            1048.0           28.1   \n",
            "556  BLUEBERRY PIE                 1 PIE               945.0           25.5   \n",
            "545  PEACH PIE                     1 PIE               945.0           24.6   \n",
            "579  APPLE PIE                     1 PIE               945.0           27.4   \n",
            "539  CHERRY PIE                    1 PIE               945.0           28.4   \n",
            "581  CREME PIE                     1 PIE               910.0           90.1   \n",
            "361  CUSTARD PIE                   1 PIE               910.0           33.7   \n",
            "430  PUMPKIN PIE                   1 PIE               910.0           38.2   \n",
            "452  LEMON MERINGUE PIE            1 PIE               840.0           26.0   \n",
            "386  PECAN PIE                     1 PIE               825.0           28.1   \n",
            "406  SHEETCAKE W/O FRSTNG;HOMERECIP1 CAKE              777.0           29.5   \n",
            "\n",
            "     cholesterol  saturated_fat_per_gram  scaled_sat_fat_per_gram  \\\n",
            "696          113                0.012322                -0.375915   \n",
            "422         1183                0.042969                 0.087760   \n",
            "376          640                0.034974                -0.033192   \n",
            "535          703                0.099579                 0.944246   \n",
            "445           46                0.029035                -0.123049   \n",
            "378         2053                0.108018                 1.071922   \n",
            "458          609                0.083032                 0.693904   \n",
            "423          576                0.043141                 0.090363   \n",
            "410          598                0.050226                 0.197556   \n",
            "479          636                0.037956                 0.011923   \n",
            "466          476                0.067011                 0.451511   \n",
            "433          146                0.026813                -0.156669   \n",
            "556            0                0.026984                -0.154079   \n",
            "545            0                0.026032                -0.168488   \n",
            "579            0                0.028995                -0.123660   \n",
            "539            0                0.030053                -0.107650   \n",
            "581           46                0.099011                 0.935650   \n",
            "361         1010                0.037033                -0.002045   \n",
            "430          655                0.041978                 0.072771   \n",
            "452          857                0.030952                -0.094042   \n",
            "386          569                0.034061                -0.047016   \n",
            "406          552                0.037967                 0.012079   \n",
            "\n",
            "     scaled_weight  \n",
            "696       7.920646  \n",
            "422       7.886520  \n",
            "376       6.891171  \n",
            "535       5.907198  \n",
            "445       5.634188  \n",
            "378       5.463557  \n",
            "458       5.452182  \n",
            "423       5.452182  \n",
            "410       5.446494  \n",
            "479       5.383929  \n",
            "466       5.201923  \n",
            "433       5.110919  \n",
            "556       4.525086  \n",
            "545       4.525086  \n",
            "579       4.525086  \n",
            "539       4.525086  \n",
            "581       4.326016  \n",
            "361       4.326016  \n",
            "430       4.326016  \n",
            "452       3.927876  \n",
            "386       3.842561  \n",
            "406       3.569551  \n"
          ]
        }
      ]
    },
    {
      "cell_type": "code",
      "source": [
        "#find outliers for other numeric values - weight\n",
        "\n",
        "#scale sat fat per gram\n",
        "data['scaled_cholesterol'] = stats.zscore(data.cholesterol, nan_policy='omit')\n",
        "\n",
        "#finds the outliers\n",
        "cholesterol_outliers = data[(data['scaled_cholesterol'] > 3) | (data['scaled_cholesterol'] < -3)]\n",
        "\n",
        "#sorts the values in descending order\n",
        "cholesterol_outliers = cholesterol_outliers.sort_values(by='scaled_cholesterol', ascending=False)\n",
        "\n",
        "num_outliers = len(cholesterol_outliers)\n",
        "\n",
        "#print out results\n",
        "print(\"There are \", num_outliers, \" outliers\")\n",
        "print(cholesterol_outliers)\n"
      ],
      "metadata": {
        "colab": {
          "base_uri": "https://localhost:8080/"
        },
        "id": "mOeY88uFZfK1",
        "outputId": "4ea3bbca-d94c-43e0-ddbd-5f17382e0d60"
      },
      "execution_count": 21,
      "outputs": [
        {
          "output_type": "stream",
          "name": "stdout",
          "text": [
            "There are  17  outliers\n",
            "                                  food item  weight_in_grams  saturated_fat  \\\n",
            "378  CHEESECAKE                    1 CAKE             1110.0          119.9   \n",
            "422  CARROT CAKE;CREMCHESE FRST;REC1 CAKE             1536.0           66.0   \n",
            "384  POUND CAKE; COMMERCIAL        1 LOAF              500.0           52.0   \n",
            "361  CUSTARD PIE                   1 PIE               910.0           33.7   \n",
            "452  LEMON MERINGUE PIE            1 PIE               840.0           26.0   \n",
            "535  ICE CREAM; VANLLA; RICH 16% FT1/2 GAL            1188.0          118.3   \n",
            "430  PUMPKIN PIE                   1 PIE               910.0           38.2   \n",
            "376  FRUITCAKE;DARK; FROM HOMERECIP1 CAKE             1361.0           47.6   \n",
            "479  SHEETCAKE;W/ WHFRSTNG;HOMERCIP1 CAKE             1096.0           41.6   \n",
            "458  YELLOWCAKE W/ CHOCFRSTNG;COMML1 CAKE             1108.0           92.0   \n",
            "410  DEVIL'S FOOD CAKE;CHOCFRST;FMX1 CAKE             1107.0           55.6   \n",
            "423  YELLOW CAKE W/ CHOC FRST;FRMIX1 CAKE             1108.0           47.8   \n",
            "386  PECAN PIE                     1 PIE               825.0           28.1   \n",
            "351  POUND CAKE; FROM HOME RECIPE  1 LOAF              514.0           21.1   \n",
            "406  SHEETCAKE W/O FRSTNG;HOMERECIP1 CAKE              777.0           29.5   \n",
            "466  ICE CREAM; VANLLA; REGULR 11% 1/2 GALN           1064.0           71.3   \n",
            "45   BEEF LIVER; FRIED             3 OZ                 85.0            2.5   \n",
            "\n",
            "     cholesterol  saturated_fat_per_gram  scaled_sat_fat_per_gram  \\\n",
            "378         2053                0.108018                 1.071922   \n",
            "422         1183                0.042969                 0.087760   \n",
            "384         1100                0.104000                 1.011131   \n",
            "361         1010                0.037033                -0.002045   \n",
            "452          857                0.030952                -0.094042   \n",
            "535          703                0.099579                 0.944246   \n",
            "430          655                0.041978                 0.072771   \n",
            "376          640                0.034974                -0.033192   \n",
            "479          636                0.037956                 0.011923   \n",
            "458          609                0.083032                 0.693904   \n",
            "410          598                0.050226                 0.197556   \n",
            "423          576                0.043141                 0.090363   \n",
            "386          569                0.034061                -0.047016   \n",
            "351          555                0.041051                 0.058739   \n",
            "406          552                0.037967                 0.012079   \n",
            "466          476                0.067011                 0.451511   \n",
            "45           410                0.029412                -0.117350   \n",
            "\n",
            "     scaled_weight  scaled_cholesterol  \n",
            "378       5.463557           16.851355  \n",
            "422       7.886520            9.595197  \n",
            "384       1.994056            8.902942  \n",
            "361       4.326016            8.152305  \n",
            "452       3.927876            6.876222  \n",
            "535       5.907198            5.591799  \n",
            "430       4.326016            5.191459  \n",
            "376       6.891171            5.066353  \n",
            "479       5.383929            5.032991  \n",
            "458       5.452182            4.807800  \n",
            "410       5.446494            4.716056  \n",
            "423       5.452182            4.532567  \n",
            "386       3.842561            4.474184  \n",
            "351       2.073684            4.357418  \n",
            "406       3.569551            4.332397  \n",
            "466       5.201923            3.698526  \n",
            "45       -0.366342            3.148058  \n"
          ]
        }
      ]
    },
    {
      "cell_type": "markdown",
      "source": [
        "\n",
        "\n",
        "---\n",
        "\n",
        "Here, I found that there were 22 outliers in both the weight and cholesterol data. Cheesecake is a very extreme outlier for cholesterol, with a scaled value of 16.85. In normal cases, one may assume there has been a mistake to have such an extreme outlier, however, I believe that it is very acurate as a measure of cholestoral in a whole cheesecake. There are also some outliers present in the weight data, however, nothing sticks out quite as much.\n",
        "\n",
        "\n",
        "---\n",
        "\n",
        "\n",
        "\n"
      ],
      "metadata": {
        "id": "pBGZRDuAPseT"
      }
    },
    {
      "cell_type": "markdown",
      "source": [
        "\n",
        "\n",
        "---\n",
        "\n",
        "**Conclusion**\n",
        "Overall, we can see that there are some anomalies within the data. There are several values that would normally be considered \"noise\" within the data, however, because we are looking at things such as nutritional facts and weight, I determined that the noise is more likely accurate than skewing the data. The only thing that was majorly skewing the data was looking at every food item the same, regardless of the measurement, such as a whole cheesecake vs 1 TBSP of butter. To handle this, I added the column for saturated fat per gram. Other than that, this data set is a good represantation of food data.\n",
        "\n",
        "\n",
        "---\n",
        "\n"
      ],
      "metadata": {
        "id": "HBCYJ4JwaqLm"
      }
    }
  ]
}